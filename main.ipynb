{
 "cells": [
  {
   "cell_type": "code",
   "execution_count": 4,
   "metadata": {},
   "outputs": [],
   "source": [
    "import numpy as np\n",
    "import pandas as pd\n",
    "import matplotlib.pyplot as plt\n",
    "from sklearn.decomposition import PCA, NMF\n",
    "from sklearn.preprocessing import Normalizer, StandardScaler"
   ]
  },
  {
   "cell_type": "code",
   "execution_count": 32,
   "metadata": {},
   "outputs": [
    {
     "data": {
      "text/html": [
       "<div>\n",
       "<style scoped>\n",
       "    .dataframe tbody tr th:only-of-type {\n",
       "        vertical-align: middle;\n",
       "    }\n",
       "\n",
       "    .dataframe tbody tr th {\n",
       "        vertical-align: top;\n",
       "    }\n",
       "\n",
       "    .dataframe thead th {\n",
       "        text-align: right;\n",
       "    }\n",
       "</style>\n",
       "<table border=\"1\" class=\"dataframe\">\n",
       "  <thead>\n",
       "    <tr style=\"text-align: right;\">\n",
       "      <th></th>\n",
       "      <th>Title</th>\n",
       "      <th>Authors</th>\n",
       "      <th>Description</th>\n",
       "      <th>Category</th>\n",
       "      <th>Publisher</th>\n",
       "      <th>Price Starting With ($)</th>\n",
       "      <th>Publish Date (Month)</th>\n",
       "      <th>Publish Date (Year)</th>\n",
       "    </tr>\n",
       "  </thead>\n",
       "  <tbody>\n",
       "    <tr>\n",
       "      <th>7</th>\n",
       "      <td>Journey Through Heartsongs</td>\n",
       "      <td>By Stepanek, Mattie J. T.</td>\n",
       "      <td>Collects poems written by the eleven-year-old ...</td>\n",
       "      <td>Poetry , General</td>\n",
       "      <td>VSP Books</td>\n",
       "      <td>19.96</td>\n",
       "      <td>September</td>\n",
       "      <td>2001</td>\n",
       "    </tr>\n",
       "    <tr>\n",
       "      <th>8</th>\n",
       "      <td>In Search of Melancholy Baby</td>\n",
       "      <td>By Aksyonov, Vassily, Heim, Michael Henry, and...</td>\n",
       "      <td>The Russian author offers an affectionate chro...</td>\n",
       "      <td>Biography &amp; Autobiography , General</td>\n",
       "      <td>Random House</td>\n",
       "      <td>4.99</td>\n",
       "      <td>June</td>\n",
       "      <td>1987</td>\n",
       "    </tr>\n",
       "    <tr>\n",
       "      <th>10</th>\n",
       "      <td>The Dieter's Guide to Weight Loss During Sex</td>\n",
       "      <td>By Smith, Richard</td>\n",
       "      <td>A humor classic, this tongue-in-cheek diet pla...</td>\n",
       "      <td>Health &amp; Fitness , Diet &amp; Nutrition , Diets</td>\n",
       "      <td>Workman Publishing Company</td>\n",
       "      <td>4.99</td>\n",
       "      <td>January</td>\n",
       "      <td>1978</td>\n",
       "    </tr>\n",
       "    <tr>\n",
       "      <th>11</th>\n",
       "      <td>Germs : Biological Weapons and America's Secre...</td>\n",
       "      <td>By Miller, Judith, Engelberg, Stephen, and Bro...</td>\n",
       "      <td>Deadly germs sprayed in shopping malls, bomb-l...</td>\n",
       "      <td>Technology &amp; Engineering , Military Science</td>\n",
       "      <td>Simon &amp; Schuster</td>\n",
       "      <td>4.99</td>\n",
       "      <td>October</td>\n",
       "      <td>2001</td>\n",
       "    </tr>\n",
       "    <tr>\n",
       "      <th>13</th>\n",
       "      <td>The Good Book: Reading the Bible with Mind and...</td>\n",
       "      <td>By Gomes, Peter J.</td>\n",
       "      <td>\"The Bible and the social and moral consequenc...</td>\n",
       "      <td>Religion , Biblical Biography , General</td>\n",
       "      <td>Harper Perennial</td>\n",
       "      <td>5.29</td>\n",
       "      <td>May</td>\n",
       "      <td>1998</td>\n",
       "    </tr>\n",
       "  </tbody>\n",
       "</table>\n",
       "</div>"
      ],
      "text/plain": [
       "                                                Title  \\\n",
       "7                          Journey Through Heartsongs   \n",
       "8                        In Search of Melancholy Baby   \n",
       "10       The Dieter's Guide to Weight Loss During Sex   \n",
       "11  Germs : Biological Weapons and America's Secre...   \n",
       "13  The Good Book: Reading the Bible with Mind and...   \n",
       "\n",
       "                                              Authors  \\\n",
       "7                           By Stepanek, Mattie J. T.   \n",
       "8   By Aksyonov, Vassily, Heim, Michael Henry, and...   \n",
       "10                                  By Smith, Richard   \n",
       "11  By Miller, Judith, Engelberg, Stephen, and Bro...   \n",
       "13                                 By Gomes, Peter J.   \n",
       "\n",
       "                                          Description  \\\n",
       "7   Collects poems written by the eleven-year-old ...   \n",
       "8   The Russian author offers an affectionate chro...   \n",
       "10  A humor classic, this tongue-in-cheek diet pla...   \n",
       "11  Deadly germs sprayed in shopping malls, bomb-l...   \n",
       "13  \"The Bible and the social and moral consequenc...   \n",
       "\n",
       "                                        Category                   Publisher  \\\n",
       "7                               Poetry , General                   VSP Books   \n",
       "8            Biography & Autobiography , General                Random House   \n",
       "10   Health & Fitness , Diet & Nutrition , Diets  Workman Publishing Company   \n",
       "11   Technology & Engineering , Military Science            Simon & Schuster   \n",
       "13       Religion , Biblical Biography , General            Harper Perennial   \n",
       "\n",
       "    Price Starting With ($) Publish Date (Month)  Publish Date (Year)  \n",
       "7                     19.96            September                 2001  \n",
       "8                      4.99                 June                 1987  \n",
       "10                     4.99              January                 1978  \n",
       "11                     4.99              October                 2001  \n",
       "13                     5.29                  May                 1998  "
      ]
     },
     "execution_count": 32,
     "metadata": {},
     "output_type": "execute_result"
    }
   ],
   "source": [
    "books = pd.read_csv(\"BooksDatasetClean.csv\")\n",
    "books = books.dropna()\n",
    "books.head()"
   ]
  },
  {
   "cell_type": "code",
   "execution_count": 40,
   "metadata": {},
   "outputs": [
    {
     "name": "stdout",
     "output_type": "stream",
     "text": [
      "['_' '___' '____' ... 'ﬂavorful' 'ﬂavors' 'ﬂees']\n"
     ]
    }
   ],
   "source": [
    "from sklearn.feature_extraction.text import TfidfVectorizer\n",
    "\n",
    "features = books['Description'] + books['Category']\n",
    "tfidf = TfidfVectorizer(token_pattern=r'(?u)\\b[^\\d\\W]+\\b')\n",
    "csr_matrix = tfidf.fit_transform(features)\n",
    "words = tfidf.get_feature_names_out()\n",
    "print(words)"
   ]
  },
  {
   "cell_type": "code",
   "execution_count": 39,
   "metadata": {},
   "outputs": [
    {
     "name": "stdout",
     "output_type": "stream",
     "text": [
      "  (0, 19308)\t0.25790244139150287\n",
      "  (0, 76321)\t0.2186393773631332\n",
      "  (0, 111863)\t0.15027717687269057\n",
      "  (0, 13955)\t0.07692340992527777\n",
      "  (0, 100330)\t0.08322459363821798\n",
      "  (0, 30941)\t0.2327995665183381\n",
      "  (0, 112286)\t0.13170446863210317\n",
      "  (0, 70238)\t0.12767952458087267\n",
      "  (0, 66371)\t0.31472606579509305\n",
      "  (0, 29879)\t0.3639784167498535\n",
      "  (0, 73304)\t0.236224444135786\n",
      "  (0, 90231)\t0.21988918281607003\n",
      "  (0, 45556)\t0.2480976210541988\n",
      "  (0, 35105)\t0.20407462242515875\n",
      "  (0, 3266)\t0.08039856312867293\n",
      "  (0, 101088)\t0.21809686604096534\n",
      "  (0, 253)\t0.09817068289512873\n",
      "  (0, 57037)\t0.08886921750749315\n",
      "  (0, 24622)\t0.23788974843856084\n",
      "  (0, 69844)\t0.043373277437482205\n",
      "  (0, 91181)\t0.23721482262811144\n",
      "  (0, 67143)\t0.16653523726808128\n",
      "  (0, 34336)\t0.17474002023506574\n",
      "  (0, 46316)\t0.16976142285057225\n",
      "  (0, 76335)\t0.2120137168802623\n",
      "  :\t:\n",
      "  (65294, 48179)\t0.16040118591644825\n",
      "  (65294, 97210)\t0.15835129720087127\n",
      "  (65294, 81403)\t0.1673770470172482\n",
      "  (65294, 78804)\t0.13723166067135936\n",
      "  (65294, 47609)\t0.1684736248855168\n",
      "  (65294, 19100)\t0.19354891063183519\n",
      "  (65295, 100330)\t0.05330046530139405\n",
      "  (65295, 3266)\t0.05149055870371838\n",
      "  (65295, 69844)\t0.05555607466499271\n",
      "  (65295, 39567)\t0.09220443549896133\n",
      "  (65295, 3118)\t0.09619347377526456\n",
      "  (65295, 44242)\t0.19033094678454526\n",
      "  (65295, 101943)\t0.05942171077734923\n",
      "  (65295, 74642)\t0.26569090808819185\n",
      "  (65295, 15107)\t0.2155308234621618\n",
      "  (65295, 26824)\t0.20484460989661835\n",
      "  (65295, 27396)\t0.2314208358830564\n",
      "  (65295, 28253)\t0.2675484235598806\n",
      "  (65295, 50306)\t0.23794576432853962\n",
      "  (65295, 78842)\t0.29244173064630824\n",
      "  (65295, 102974)\t0.24768113049821003\n",
      "  (65295, 35088)\t0.3120725977783561\n",
      "  (65295, 12378)\t0.32520233565691636\n",
      "  (65295, 42114)\t0.3226121300992718\n",
      "  (65295, 79604)\t0.3729003032681909\n"
     ]
    }
   ],
   "source": [
    "print(csr_matrix)"
   ]
  },
  {
   "cell_type": "code",
   "execution_count": 41,
   "metadata": {},
   "outputs": [
    {
     "name": "stdout",
     "output_type": "stream",
     "text": [
      "[[0.00747029 0.         0.         0.00148659 0.02847318 0.00017155]\n",
      " [0.037129   0.         0.         0.00090612 0.         0.00232815]\n",
      " [0.01486267 0.         0.02099396 0.01566584 0.00029396 0.010319  ]\n",
      " ...\n",
      " [0.01924635 0.00212058 0.00956242 0.02483403 0.00999203 0.        ]\n",
      " [0.01774119 0.         0.         0.02627951 0.         0.00300921]\n",
      " [0.00600839 0.         0.         0.02428192 0.         0.        ]]\n"
     ]
    }
   ],
   "source": [
    "model = NMF(n_components=6)\n",
    "model.fit(csr_matrix)\n",
    "features = model.transform(csr_matrix)\n",
    "print(features)"
   ]
  },
  {
   "cell_type": "code",
   "execution_count": null,
   "metadata": {},
   "outputs": [],
   "source": []
  }
 ],
 "metadata": {
  "kernelspec": {
   "display_name": "base",
   "language": "python",
   "name": "python3"
  },
  "language_info": {
   "codemirror_mode": {
    "name": "ipython",
    "version": 3
   },
   "file_extension": ".py",
   "mimetype": "text/x-python",
   "name": "python",
   "nbconvert_exporter": "python",
   "pygments_lexer": "ipython3",
   "version": "3.12.7"
  }
 },
 "nbformat": 4,
 "nbformat_minor": 2
}
